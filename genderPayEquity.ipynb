{
  "nbformat": 4,
  "nbformat_minor": 0,
  "metadata": {
    "colab": {
      "provenance": []
    },
    "kernelspec": {
      "name": "python3",
      "display_name": "Python 3"
    },
    "language_info": {
      "name": "python"
    }
  },
  "cells": [
    {
      "cell_type": "code",
      "execution_count": null,
      "metadata": {
        "id": "Yct6amKxfpbG"
      },
      "outputs": [],
      "source": [
        "pip install gradio"
      ]
    },
    {
      "cell_type": "markdown",
      "source": [
        "Importing Libraries"
      ],
      "metadata": {
        "id": "p5N0KZg5gRnr"
      }
    },
    {
      "cell_type": "code",
      "source": [
        "import gradio as gr\n",
        "import pandas as pd"
      ],
      "metadata": {
        "id": "FwY0stHlgRES"
      },
      "execution_count": null,
      "outputs": []
    },
    {
      "cell_type": "code",
      "source": [
        "import datetime\n",
        "import seaborn as sns\n",
        "import matplotlib.pyplot as plt\n",
        "\n",
        "import statistics as stats\n",
        "import math as math"
      ],
      "metadata": {
        "id": "oPU5cfJ3xc7n"
      },
      "execution_count": null,
      "outputs": []
    },
    {
      "cell_type": "code",
      "source": [
        "from plotly.offline import init_notebook_mode, iplot\n",
        "import plotly.figure_factory as ff\n",
        "import plotly.graph_objs as go\n",
        "import plotly.offline as py"
      ],
      "metadata": {
        "id": "YHY6uxGqxhAs"
      },
      "execution_count": null,
      "outputs": []
    },
    {
      "cell_type": "markdown",
      "source": [
        "Processing and Job Title Distribution"
      ],
      "metadata": {
        "id": "6FpiyEC-xmwA"
      }
    },
    {
      "cell_type": "code",
      "source": [
        "\n",
        "def preProcess(df):\n",
        "    df['TotalPay'] = df['BasePay'] + df['Bonus']\n",
        "\n",
        "    title = pd.get_dummies(df, columns=['Gender']).groupby('JobTitle').sum()\n",
        "\n",
        "    female = df[df['Gender'] == 'Female'].groupby('JobTitle').sum()\n",
        "    male = df[df['Gender'] == 'Male'].groupby('JobTitle').sum()\n",
        "\n",
        "    return df,title,female,male;\n",
        "\n",
        "\n",
        "def jobTitleDistribution(fileobj):\n",
        "    #file_path = fileobj.name\n",
        "    df = pd.read_csv(fileobj.name)\n",
        "\n",
        "    df,title,female,male=preProcess(df)\n",
        "\n",
        "    # Perform some operations on the DataFrame (for example, get summary statistics)\n",
        "    #summary_stats = df.columns\n",
        "\n",
        "    female = go.Pie(labels=title.index,values=title['Gender_Female'],name=\"Female\",hole=0.5,domain={'x': [0,0.46]})\n",
        "    male = go.Pie(labels=title.index,values=title['Gender_Male'],name=\"Male\",hole=0.5,domain={'x': [0.52,1]})\n",
        "\n",
        "    layout = dict(title = 'Job Title Distribution', font=dict(size=14), legend=dict(orientation=\"h\"),\n",
        "                  annotations = [dict(x=0.2, y=0.5, text='Female', showarrow=False, font=dict(size=20)),\n",
        "                                dict(x=0.8, y=0.5, text='Male', showarrow=False, font=dict(size=20)) ])\n",
        "\n",
        "    fig = dict(data=[female, male], layout=layout)\n",
        "\n",
        "    # Return the summary statistics as a string\n",
        "    return go.Figure(fig).update_layout(width=800, height=500)"
      ],
      "metadata": {
        "id": "D7WiOviqxkb-"
      },
      "execution_count": null,
      "outputs": []
    },
    {
      "cell_type": "markdown",
      "source": [
        "Base pay gap job title"
      ],
      "metadata": {
        "id": "BxPphn2TxsgK"
      }
    },
    {
      "cell_type": "code",
      "source": [
        "def basePayGapJob(fileobj):\n",
        "    df = pd.read_csv(fileobj.name)\n",
        "    df,title,female,male=preProcess(df)\n",
        "\n",
        "    female['BasePay'] /= title['Gender_Female'].tolist()\n",
        "    female['TotalPay'] /= title['Gender_Female'].tolist()\n",
        "    female['Bonus'] /= title['Gender_Female'].tolist()\n",
        "    male['BasePay'] /= title['Gender_Male'].tolist()\n",
        "    male['TotalPay'] /= title['Gender_Male'].tolist()\n",
        "    male['Bonus'] /= title['Gender_Male'].tolist()\n",
        "    fig = go.Figure(data=[\n",
        "        go.Bar(name='Female', x=female.index, y=female['BasePay']),\n",
        "        go.Bar(name='Male', x=male.index, y=male['BasePay'])\n",
        "    ])\n",
        "    # Change the bar mode\n",
        "    fig.update_layout(barmode='group', title='BasePay Gap by JobTitle',width=800, height=500)\n",
        "\n",
        "    return fig"
      ],
      "metadata": {
        "id": "QuR2PVPMxtFZ"
      },
      "execution_count": null,
      "outputs": []
    },
    {
      "cell_type": "markdown",
      "source": [
        "Bonus pay gap job title"
      ],
      "metadata": {
        "id": "Xl2gxWAixzYL"
      }
    },
    {
      "cell_type": "code",
      "source": [
        "def bonusPayGapJob(fileobj):\n",
        "\n",
        "    df = pd.read_csv(fileobj.name)\n",
        "    df,title,female,male=preProcess(df)\n",
        "\n",
        "    fig = go.Figure(data=[\n",
        "        go.Bar(name='Female', x=female.index, y=female['Bonus']),\n",
        "        go.Bar(name='Male', x=male.index, y=male['Bonus'])\n",
        "    ])\n",
        "    # Change the bar mode\n",
        "    fig.update_layout(barmode='group', title='Bonus Pay Gap by JobTitle',width=800, height=500)\n",
        "\n",
        "    return fig"
      ],
      "metadata": {
        "id": "-LlxYowlxyvS"
      },
      "execution_count": null,
      "outputs": []
    },
    {
      "cell_type": "markdown",
      "source": [
        "Total pay gap job title"
      ],
      "metadata": {
        "id": "Jm6rte3kx61p"
      }
    },
    {
      "cell_type": "code",
      "source": [
        "def totalPayGapJob(fileobj):\n",
        "\n",
        "    df = pd.read_csv(fileobj.name)\n",
        "    df,title,female,male=preProcess(df)\n",
        "\n",
        "    fig = go.Figure(data=[\n",
        "        go.Bar(name='Female', x=female.index, y=female['TotalPay']),\n",
        "        go.Bar(name='Male', x=male.index, y=male['TotalPay'])\n",
        "    ])\n",
        "    # Change the bar mode\n",
        "    fig.update_layout(barmode='group', title='TotalPay Gap by JobTitle',width=800, height=500)\n",
        "\n",
        "    return fig"
      ],
      "metadata": {
        "id": "CZI9y4sYx3Ij"
      },
      "execution_count": null,
      "outputs": []
    },
    {
      "cell_type": "markdown",
      "source": [
        "Performance and pay gap analysis"
      ],
      "metadata": {
        "id": "bfcP0NA2yDKR"
      }
    },
    {
      "cell_type": "code",
      "source": [
        "# Create subplots for female and male data side by side\n",
        "\n",
        "##base pay\n",
        "\n",
        "def basePayGapPerf(fileobj):\n",
        "    df = pd.read_csv(fileobj.name)\n",
        "    df,title,female,male=preProcess(df)\n",
        "\n",
        "    female_data = df[df.Gender == 'Female'].copy()\n",
        "    male_data = df[df.Gender == 'Male'].copy()\n",
        "\n",
        "    fig, axes = plt.subplots(nrows=1, ncols=2, figsize=(18, 6))\n",
        "\n",
        "    female_data.plot(kind='scatter', x='PerfEval', y='BasePay', ax=axes[0], s=15, c='pink')\n",
        "    axes[0].set_ylabel('Base Pay')\n",
        "    axes[0].set_xlabel('Performance Evaluation Rating')\n",
        "    axes[0].set_title('Female Base Pay vs. Performance Rating')\n",
        "\n",
        "    male_data.plot(kind='scatter', x='PerfEval', y='BasePay', ax=axes[1], s=15)\n",
        "    axes[1].set_ylabel('Base Pay')\n",
        "    axes[1].set_xlabel('Performance Evaluation Rating')\n",
        "    axes[1].set_title('Male Base Pay vs. Performance Rating')\n",
        "\n",
        "    plt.tight_layout()\n",
        "    return fig\n",
        "\n",
        "##bonus\n",
        "def bonusPayGapPerf(fileobj):\n",
        "    df = pd.read_csv(fileobj.name)\n",
        "    df,title,female,male=preProcess(df)\n",
        "\n",
        "    female_data = df[df.Gender == 'Female'].copy()\n",
        "    male_data = df[df.Gender == 'Male'].copy()\n",
        "\n",
        "    fig, axes = plt.subplots(nrows=1, ncols=2, figsize=(18, 6))\n",
        "\n",
        "    female_data.plot(kind='scatter', x='PerfEval', y='Bonus', ax=axes[0], s=15, c='pink')\n",
        "    axes[0].set_ylabel('Bonus')\n",
        "    axes[0].set_xlabel('Performance Evaluation Rating')\n",
        "    axes[0].set_title('Female Bonus vs. Performance Rating')\n",
        "\n",
        "    male_data.plot(kind='scatter', x='PerfEval', y='Bonus', ax=axes[1], s=15)\n",
        "    axes[1].set_ylabel('Bonus')\n",
        "    axes[1].set_xlabel('Performance Evaluation Rating')\n",
        "    axes[1].set_title('Male Bonus Pay vs. Performance Rating')\n",
        "\n",
        "    plt.tight_layout()\n",
        "    return fig\n",
        "\n",
        "\n",
        "##total\n",
        "def totalPayGapPerf(fileobj):\n",
        "    df = pd.read_csv(fileobj.name)\n",
        "    df,title,female,male=preProcess(df)\n",
        "\n",
        "    female_data = df[df.Gender == 'Female'].copy()\n",
        "    male_data = df[df.Gender == 'Male'].copy()\n",
        "\n",
        "    fig, axes = plt.subplots(nrows=1, ncols=2, figsize=(18, 6))\n",
        "\n",
        "\n",
        "    female_data.plot(kind='scatter', x='PerfEval', y='TotalPay', ax=axes[0], s=15, c='pink')\n",
        "    axes[0].set_ylabel('Total Income')\n",
        "    axes[0].set_xlabel('Performance Evaluation Rating')\n",
        "    axes[0].set_title('Female Total Income vs. Performance Rating');\n",
        "\n",
        "    male_data.plot(kind='scatter', x='PerfEval', y='TotalPay', ax=axes[1], s=15)\n",
        "    axes[1].set_ylabel('Total Income')\n",
        "    axes[1].set_xlabel('Performance Evaluation Rating')\n",
        "    axes[1].set_title('Male Total Income vs. Performance Rating')\n",
        "\n",
        "    plt.tight_layout()\n",
        "    return fig\n",
        "\n"
      ],
      "metadata": {
        "id": "k2i72-F3yCH3"
      },
      "execution_count": null,
      "outputs": []
    },
    {
      "cell_type": "markdown",
      "source": [
        "Description"
      ],
      "metadata": {
        "id": "r8k3Ba28yJdk"
      }
    },
    {
      "cell_type": "code",
      "source": [
        "def description(fileobj):\n",
        "    df = pd.read_csv(fileobj.name)\n",
        "    df,title,female,male=preProcess(df)\n",
        "\n",
        "    diff = (male['TotalPay'] - female['TotalPay']).tolist()\n",
        "    titles = male.index.tolist()\n",
        "\n",
        "    text=''\n",
        "\n",
        "    for i in range(len(diff)):\n",
        "        if diff[i] > 0:\n",
        "            text+='Men make ' + str(int(diff[i])) + ' more than Women as a ' + titles[i]\n",
        "            text+='<br>'\n",
        "        else:\n",
        "            text+='Men make ' + str(int(-diff[i])) + ' less than Women as a ' + titles[i]\n",
        "            text+='<br>'\n",
        "\n",
        "    return text"
      ],
      "metadata": {
        "id": "wDQmyASqyIz2"
      },
      "execution_count": null,
      "outputs": []
    },
    {
      "cell_type": "markdown",
      "source": [
        "MAIN"
      ],
      "metadata": {
        "id": "Nvd8odn8yRLB"
      }
    },
    {
      "cell_type": "code",
      "source": [
        "with gr.Blocks() as demo:\n",
        "\n",
        "\n",
        "    gr.Markdown(\n",
        "\n",
        "\"\"\"              #        &nbsp;&nbsp;&nbsp;&nbsp;&nbsp;&nbsp;&nbsp;&nbsp;&nbsp;&#09;&#09;&#09; Gender Pay Equity Analysis Software\n",
        "       ### Gain insights into your company's gender pay scenario\n",
        "    Columns of file: JobTitle, Gender, Age, PerfEval, Education, Dept, Seniority, BasePay, Bonus\n",
        "\n",
        "\n",
        "    \"\"\")\n",
        "    with gr.Row(): #used for placing\n",
        "\n",
        "        fileobj=gr.File()\n",
        "    btn = gr.Button(\"Generate\",interactive=True)\n",
        "\n",
        "\n",
        "#choice = gr.Radio(['Job Title Distribution','Base Pay gap by Job Title','Bonus Pay gap by Job Title','Total Pay gap by Job Title',\n",
        "#'Whether performance evaluations show differences in Base Pay and Total Income when sorting based on Gender','Textual observation'])\n",
        "    with gr.Tab('Job Title Distribution'):\n",
        "        btn.click(fn=jobTitleDistribution, inputs=fileobj, outputs=gr.Plot(), api_name=\"btn1\")\n",
        "\n",
        "    with gr.Tab('Base Pay gap by Job Title'):\n",
        "        btn.click(fn=basePayGapJob, inputs=fileobj, outputs=gr.Plot(), api_name=\"btn1\")\n",
        "\n",
        "    with gr.Tab('Bonus Pay gap by Job Title'):\n",
        "        btn.click(fn=bonusPayGapJob, inputs=fileobj, outputs=gr.Plot(), api_name=\"btn1\")\n",
        "\n",
        "    with gr.Tab('Total Pay gap by Job Title'):\n",
        "        btn.click(fn=totalPayGapJob, inputs=fileobj, outputs=gr.Plot(), api_name=\"btn1\")\n",
        "\n",
        "\n",
        "    with gr.Tab('Base Pay gap by Performance'):\n",
        "        btn.click(fn=basePayGapPerf, inputs=fileobj, outputs=gr.Plot(), api_name=\"btn1\")\n",
        "\n",
        "    with gr.Tab('Bonus Pay gap by Performance'):\n",
        "        btn.click(fn=bonusPayGapPerf, inputs=fileobj, outputs=gr.Plot(), api_name=\"btn1\")\n",
        "\n",
        "    with gr.Tab('Total Pay gap by Performance'):\n",
        "        btn.click(fn=totalPayGapPerf, inputs=fileobj, outputs=gr.Plot(), api_name=\"btn1\")\n",
        "\n",
        "    with gr.Tab('Description'):\n",
        "        text_content=gr.Markdown()\n",
        "        btn.click(fn=description,inputs=fileobj,outputs=text_content, api_name=\"btn1\")\n",
        "\n"
      ],
      "metadata": {
        "id": "1jl3eoNVyS2g"
      },
      "execution_count": null,
      "outputs": []
    },
    {
      "cell_type": "code",
      "source": [
        "demo.launch()"
      ],
      "metadata": {
        "id": "0NENbSTVyVqG"
      },
      "execution_count": null,
      "outputs": []
    }
  ]
}